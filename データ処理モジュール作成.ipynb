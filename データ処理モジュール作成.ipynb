{
 "cells": [
  {
   "cell_type": "code",
   "execution_count": 1,
   "metadata": {},
   "outputs": [],
   "source": [
    "# データの種類ごとにさらにモジュールを分割する\n",
    "\n",
    "import pandas as pd\n",
    "import numpy as np\n",
    "import os \n",
    "import re\n",
    "from datetime import datetime\n",
    "\n",
    "#日付情報を取得\n",
    "from datetime import datetime\n",
    "from pytz import timezone\n",
    "date_now = datetime.now(timezone('Asia/Tokyo')).strftime(\"%Y%m%d\")"
   ]
  },
  {
   "cell_type": "code",
   "execution_count": 2,
   "metadata": {},
   "outputs": [],
   "source": [
    "pd.options.display.float_format = '{:.2f}'.format"
   ]
  },
  {
   "cell_type": "code",
   "execution_count": 3,
   "metadata": {},
   "outputs": [
    {
     "data": {
      "text/plain": [
       "['chop_threshold',\n",
       " 'colheader_justify',\n",
       " 'column_space',\n",
       " 'date_dayfirst',\n",
       " 'date_yearfirst',\n",
       " 'encoding',\n",
       " 'expand_frame_repr',\n",
       " 'float_format',\n",
       " 'html',\n",
       " 'large_repr',\n",
       " 'latex',\n",
       " 'max_categories',\n",
       " 'max_columns',\n",
       " 'max_colwidth',\n",
       " 'max_info_columns',\n",
       " 'max_info_rows',\n",
       " 'max_rows',\n",
       " 'max_seq_items',\n",
       " 'memory_usage',\n",
       " 'min_rows',\n",
       " 'multi_sparse',\n",
       " 'notebook_repr_html',\n",
       " 'pprint_nest_depth',\n",
       " 'precision',\n",
       " 'show_dimensions',\n",
       " 'unicode',\n",
       " 'width']"
      ]
     },
     "execution_count": 3,
     "metadata": {},
     "output_type": "execute_result"
    }
   ],
   "source": [
    "dir(pd.options.display)"
   ]
  },
  {
   "cell_type": "code",
   "execution_count": 5,
   "metadata": {},
   "outputs": [],
   "source": [
    "import test_module_stock"
   ]
  },
  {
   "cell_type": "code",
   "execution_count": 6,
   "metadata": {},
   "outputs": [
    {
     "data": {
      "text/plain": [
       "'df_3'"
      ]
     },
     "execution_count": 6,
     "metadata": {},
     "output_type": "execute_result"
    }
   ],
   "source": [
    "stock = test_module_stock.StockPreProcessing('test.csv', '/Users/yoshizawatatsuya/jupyter_workspace', 'df_3')\n",
    "stock.dataframefilename"
   ]
  },
  {
   "cell_type": "code",
   "execution_count": 8,
   "metadata": {},
   "outputs": [],
   "source": [
    "stock.read_stock()\n",
    "stock.add_column_yyyymm_end()\n",
    "stock.caliculate_free_onhand()\n",
    "stock.caliculate_non_moving()"
   ]
  },
  {
   "cell_type": "code",
   "execution_count": 9,
   "metadata": {},
   "outputs": [
    {
     "data": {
      "text/html": [
       "<div>\n",
       "<style scoped>\n",
       "    .dataframe tbody tr th:only-of-type {\n",
       "        vertical-align: middle;\n",
       "    }\n",
       "\n",
       "    .dataframe tbody tr th {\n",
       "        vertical-align: top;\n",
       "    }\n",
       "\n",
       "    .dataframe thead th {\n",
       "        text-align: right;\n",
       "    }\n",
       "</style>\n",
       "<table border=\"1\" class=\"dataframe\">\n",
       "  <thead>\n",
       "    <tr style=\"text-align: right;\">\n",
       "      <th></th>\n",
       "      <th>test1</th>\n",
       "      <th>test2</th>\n",
       "      <th>yyyymmdd</th>\n",
       "      <th>onhand</th>\n",
       "      <th>alocated</th>\n",
       "      <th>last_out_moving</th>\n",
       "      <th>last_in_moving</th>\n",
       "      <th>yyyymm</th>\n",
       "      <th>free_onhand</th>\n",
       "    </tr>\n",
       "  </thead>\n",
       "  <tbody>\n",
       "    <tr>\n",
       "      <th>0</th>\n",
       "      <td>1</td>\n",
       "      <td>2</td>\n",
       "      <td>20190101</td>\n",
       "      <td>5</td>\n",
       "      <td>2</td>\n",
       "      <td>20200501</td>\n",
       "      <td>NaN</td>\n",
       "      <td>201901E</td>\n",
       "      <td>3</td>\n",
       "    </tr>\n",
       "    <tr>\n",
       "      <th>1</th>\n",
       "      <td>4</td>\n",
       "      <td>6</td>\n",
       "      <td>20200201</td>\n",
       "      <td>10</td>\n",
       "      <td>2</td>\n",
       "      <td>NaN</td>\n",
       "      <td>20100101</td>\n",
       "      <td>202002E</td>\n",
       "      <td>8</td>\n",
       "    </tr>\n",
       "    <tr>\n",
       "      <th>2</th>\n",
       "      <td>3</td>\n",
       "      <td>2</td>\n",
       "      <td>20200201</td>\n",
       "      <td>1</td>\n",
       "      <td>0</td>\n",
       "      <td>20130805</td>\n",
       "      <td>20151215</td>\n",
       "      <td>202002E</td>\n",
       "      <td>1</td>\n",
       "    </tr>\n",
       "  </tbody>\n",
       "</table>\n",
       "</div>"
      ],
      "text/plain": [
       "  test1  test2  yyyymmdd  onhand  alocated last_out_moving last_in_moving  \\\n",
       "0     1      2  20190101       5         2        20200501            NaN   \n",
       "1     4      6  20200201      10         2             NaN       20100101   \n",
       "2     3      2  20200201       1         0        20130805       20151215   \n",
       "\n",
       "    yyyymm  free_onhand  \n",
       "0  201901E            3  \n",
       "1  202002E            8  \n",
       "2  202002E            1  "
      ]
     },
     "execution_count": 9,
     "metadata": {},
     "output_type": "execute_result"
    }
   ],
   "source": [
    "stock.dataframefilename"
   ]
  },
  {
   "cell_type": "code",
   "execution_count": 10,
   "metadata": {},
   "outputs": [],
   "source": [
    "stock.fillna_last_moving()"
   ]
  },
  {
   "cell_type": "code",
   "execution_count": 11,
   "metadata": {},
   "outputs": [
    {
     "data": {
      "text/html": [
       "<div>\n",
       "<style scoped>\n",
       "    .dataframe tbody tr th:only-of-type {\n",
       "        vertical-align: middle;\n",
       "    }\n",
       "\n",
       "    .dataframe tbody tr th {\n",
       "        vertical-align: top;\n",
       "    }\n",
       "\n",
       "    .dataframe thead th {\n",
       "        text-align: right;\n",
       "    }\n",
       "</style>\n",
       "<table border=\"1\" class=\"dataframe\">\n",
       "  <thead>\n",
       "    <tr style=\"text-align: right;\">\n",
       "      <th></th>\n",
       "      <th>test1</th>\n",
       "      <th>test2</th>\n",
       "      <th>yyyymmdd</th>\n",
       "      <th>onhand</th>\n",
       "      <th>alocated</th>\n",
       "      <th>last_out_moving</th>\n",
       "      <th>last_in_moving</th>\n",
       "      <th>yyyymm</th>\n",
       "      <th>free_onhand</th>\n",
       "    </tr>\n",
       "  </thead>\n",
       "  <tbody>\n",
       "    <tr>\n",
       "      <th>0</th>\n",
       "      <td>1</td>\n",
       "      <td>2</td>\n",
       "      <td>20190101</td>\n",
       "      <td>5</td>\n",
       "      <td>2</td>\n",
       "      <td>20200501</td>\n",
       "      <td>19000101</td>\n",
       "      <td>201901E</td>\n",
       "      <td>3</td>\n",
       "    </tr>\n",
       "    <tr>\n",
       "      <th>1</th>\n",
       "      <td>4</td>\n",
       "      <td>6</td>\n",
       "      <td>20200201</td>\n",
       "      <td>10</td>\n",
       "      <td>2</td>\n",
       "      <td>19000101</td>\n",
       "      <td>20100101</td>\n",
       "      <td>202002E</td>\n",
       "      <td>8</td>\n",
       "    </tr>\n",
       "    <tr>\n",
       "      <th>2</th>\n",
       "      <td>3</td>\n",
       "      <td>2</td>\n",
       "      <td>20200201</td>\n",
       "      <td>1</td>\n",
       "      <td>0</td>\n",
       "      <td>20130805</td>\n",
       "      <td>20151215</td>\n",
       "      <td>202002E</td>\n",
       "      <td>1</td>\n",
       "    </tr>\n",
       "  </tbody>\n",
       "</table>\n",
       "</div>"
      ],
      "text/plain": [
       "  test1  test2  yyyymmdd  onhand  alocated last_out_moving last_in_moving  \\\n",
       "0     1      2  20190101       5         2        20200501       19000101   \n",
       "1     4      6  20200201      10         2        19000101       20100101   \n",
       "2     3      2  20200201       1         0        20130805       20151215   \n",
       "\n",
       "    yyyymm  free_onhand  \n",
       "0  201901E            3  \n",
       "1  202002E            8  \n",
       "2  202002E            1  "
      ]
     },
     "execution_count": 11,
     "metadata": {},
     "output_type": "execute_result"
    }
   ],
   "source": [
    "stock.dataframefilename"
   ]
  },
  {
   "cell_type": "code",
   "execution_count": 12,
   "metadata": {},
   "outputs": [],
   "source": [
    "stock.to_datetime_last_moving()"
   ]
  },
  {
   "cell_type": "code",
   "execution_count": 13,
   "metadata": {},
   "outputs": [
    {
     "data": {
      "text/html": [
       "<div>\n",
       "<style scoped>\n",
       "    .dataframe tbody tr th:only-of-type {\n",
       "        vertical-align: middle;\n",
       "    }\n",
       "\n",
       "    .dataframe tbody tr th {\n",
       "        vertical-align: top;\n",
       "    }\n",
       "\n",
       "    .dataframe thead th {\n",
       "        text-align: right;\n",
       "    }\n",
       "</style>\n",
       "<table border=\"1\" class=\"dataframe\">\n",
       "  <thead>\n",
       "    <tr style=\"text-align: right;\">\n",
       "      <th></th>\n",
       "      <th>test1</th>\n",
       "      <th>test2</th>\n",
       "      <th>yyyymmdd</th>\n",
       "      <th>onhand</th>\n",
       "      <th>alocated</th>\n",
       "      <th>last_out_moving</th>\n",
       "      <th>last_in_moving</th>\n",
       "      <th>yyyymm</th>\n",
       "      <th>free_onhand</th>\n",
       "    </tr>\n",
       "  </thead>\n",
       "  <tbody>\n",
       "    <tr>\n",
       "      <th>0</th>\n",
       "      <td>1</td>\n",
       "      <td>2</td>\n",
       "      <td>2019-01-01</td>\n",
       "      <td>5</td>\n",
       "      <td>2</td>\n",
       "      <td>2020-05-01</td>\n",
       "      <td>1900-01-01</td>\n",
       "      <td>201901E</td>\n",
       "      <td>3</td>\n",
       "    </tr>\n",
       "    <tr>\n",
       "      <th>1</th>\n",
       "      <td>4</td>\n",
       "      <td>6</td>\n",
       "      <td>2020-02-01</td>\n",
       "      <td>10</td>\n",
       "      <td>2</td>\n",
       "      <td>1900-01-01</td>\n",
       "      <td>2010-01-01</td>\n",
       "      <td>202002E</td>\n",
       "      <td>8</td>\n",
       "    </tr>\n",
       "    <tr>\n",
       "      <th>2</th>\n",
       "      <td>3</td>\n",
       "      <td>2</td>\n",
       "      <td>2020-02-01</td>\n",
       "      <td>1</td>\n",
       "      <td>0</td>\n",
       "      <td>2013-08-05</td>\n",
       "      <td>2015-12-15</td>\n",
       "      <td>202002E</td>\n",
       "      <td>1</td>\n",
       "    </tr>\n",
       "  </tbody>\n",
       "</table>\n",
       "</div>"
      ],
      "text/plain": [
       "  test1  test2   yyyymmdd  onhand  alocated last_out_moving last_in_moving  \\\n",
       "0     1      2 2019-01-01       5         2      2020-05-01     1900-01-01   \n",
       "1     4      6 2020-02-01      10         2      1900-01-01     2010-01-01   \n",
       "2     3      2 2020-02-01       1         0      2013-08-05     2015-12-15   \n",
       "\n",
       "    yyyymm  free_onhand  \n",
       "0  201901E            3  \n",
       "1  202002E            8  \n",
       "2  202002E            1  "
      ]
     },
     "execution_count": 13,
     "metadata": {},
     "output_type": "execute_result"
    }
   ],
   "source": [
    "stock.dataframefilename"
   ]
  },
  {
   "cell_type": "code",
   "execution_count": null,
   "metadata": {},
   "outputs": [],
   "source": []
  }
 ],
 "metadata": {
  "kernelspec": {
   "display_name": "Python 3",
   "language": "python",
   "name": "python3"
  },
  "language_info": {
   "codemirror_mode": {
    "name": "ipython",
    "version": 3
   },
   "file_extension": ".py",
   "mimetype": "text/x-python",
   "name": "python",
   "nbconvert_exporter": "python",
   "pygments_lexer": "ipython3",
   "version": "3.7.6"
  }
 },
 "nbformat": 4,
 "nbformat_minor": 4
}
